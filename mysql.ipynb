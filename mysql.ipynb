{
 "cells": [
  {
   "cell_type": "markdown",
   "id": "64a61a39-e464-4dc6-8456-5e4de829b390",
   "metadata": {},
   "source": [
    "Q1. What is a database? Differentiate between SQL and NoSQL databases."
   ]
  },
  {
   "cell_type": "code",
   "execution_count": null,
   "id": "08f4aa71-deec-490d-aea4-75a69a552bc5",
   "metadata": {},
   "outputs": [],
   "source": [
    "Ans:-Database is a system that allows users to store & organize data.\n",
    "       SQL:-\n",
    "         i.It ia a relational database\n",
    "          ii.Data store in the form of tables(rows & columns)\n",
    "            iii.Low efficieny with high volumes of data.\n",
    "            \n",
    "        NOSQL:-\n",
    "          i.It is a non-relational database\n",
    "            ii.Data store either key-values pairs,documents-based & graph database\n",
    "              iii.They are dynamic schema\n",
    "                iv.Easily work with huge volumes of data."
   ]
  },
  {
   "cell_type": "markdown",
   "id": "ca9266ee-7c49-4363-aa05-82a6ad2498f4",
   "metadata": {},
   "source": [
    "Q2. What is DDL? Explain why CREATE, DROP, ALTER, and TRUNCATE are used with an example."
   ]
  },
  {
   "cell_type": "code",
   "execution_count": null,
   "id": "3187f0e2-b79a-4b4b-94ed-4cb4e0f16f2a",
   "metadata": {},
   "outputs": [],
   "source": [
    "Ans:-DDL stands for Data Definition Language which is used to manipulate the structure database\n",
    "      \n",
    "i.CREATE:-\n",
    "    The CREATE statement is used to create new database objects, such as tables, views, indexes, or schemas.\n",
    "  \n",
    " ex---\n",
    "CREATE TABLE Employees (\n",
    "    ID INT PRIMARY KEY,\n",
    "    Name VARCHAR(30),\n",
    "    Age INT,\n",
    "    Department VARCHAR(30)\n",
    ");            \n",
    "\n",
    "ii.DROP:-\n",
    "       The DROP statement is used to delete existing database objects, such as tables, views, or indexes.\n",
    "    ex---\n",
    "DROP TABLE Employees;\n",
    "\n",
    "iii.ALTER:-\n",
    "        The ALTER statement is used to modify the structure of an existing database object.\n",
    "    ex---\n",
    "ALTER TABLE Employees\n",
    "ADD COLUMN Salary DECIMAL(20, 8);\n",
    "\n",
    "iv.TRUNCATE:-\n",
    "   ex---\n",
    "TRUNCATE TABLE Employees;"
   ]
  },
  {
   "cell_type": "markdown",
   "id": "36f8e773-5e87-49c5-b313-909010e3d9e0",
   "metadata": {},
   "source": [
    "Q3. What is DML? Explain INSERT, UPDATE, and DELETE with an example."
   ]
  },
  {
   "cell_type": "code",
   "execution_count": null,
   "id": "c34bd98f-adb9-4d1d-9f02-0364defeb1a1",
   "metadata": {},
   "outputs": [],
   "source": [
    "Ans:-\n",
    "    DML stands for Data Manipulkation Language which is used to retrieve, insert, update, and delete data within a database.\n",
    "i.INSERT:-\n",
    "      The INSERT statement is used to insert new rows of data into a table. \n",
    "    ex--\n",
    "INSERT INTO Employees (ID, Name, Age, Department)\n",
    "VALUES (1, 'Daniel Joe', 35, 'Marketing');\n",
    "\n",
    "ii.UPDATE:-\n",
    "       The UPDATE statement is used to modify existing data within a table.\n",
    "     ex--\n",
    "UPDATE Employees\n",
    "SET Department = Sales'\n",
    "WHERE ID = 1;\n",
    "\n",
    "iii.DELETE:-\n",
    "       The DELETE statement is used to remove one or more rows of data from a table based on specified conditions.\n",
    "    ex--\n",
    "DELETE FROM Employees\n",
    "WHERE Age > 40;"
   ]
  },
  {
   "cell_type": "markdown",
   "id": "7abdad6a-3042-41cd-a4aa-4988695e6361",
   "metadata": {},
   "source": [
    "Q4. What is DQL? Explain SELECT with an example."
   ]
  },
  {
   "cell_type": "code",
   "execution_count": null,
   "id": "878efbbf-f5fa-43c7-a496-59aff377c252",
   "metadata": {},
   "outputs": [],
   "source": [
    "Ans:-\n",
    "    DQL stands for Data Query Language,which is used to retrive data from the database.\n",
    "    \n",
    "The SELECT statement is used to retrieve data from one or more tables in a database.\n",
    "  ex---\n",
    "SELECT ID, Name, Age, Department\n",
    "FROM Employees\n",
    "WHERE Department = 'Healthcare'\n",
    "ORDER BY Name ASC;"
   ]
  },
  {
   "cell_type": "markdown",
   "id": "a407023c-71a1-4a07-9016-9b36e1971192",
   "metadata": {},
   "source": [
    "Q5. Explain Primary Key and Foreign Key."
   ]
  },
  {
   "cell_type": "code",
   "execution_count": null,
   "id": "260f69d9-ab19-40ab-9418-2a0731b59b75",
   "metadata": {},
   "outputs": [],
   "source": [
    "Ans:-\n",
    "    i.Primary Key :-\n",
    "----->A primary key is a unique column we set ina table to easily identify & locate data in queries.\n",
    "----->A table can have only one primary key,which should be unique & NOT NULL.\n",
    "\n",
    "    ii.Forign Key:-\n",
    "----->A foreign key is a column used to link two or more tables together.\n",
    "----->A table can have any no. of foreifn key,can contain duplicate & NULL values."
   ]
  },
  {
   "cell_type": "markdown",
   "id": "a533a129-447d-4119-880b-54464df2d38e",
   "metadata": {},
   "source": [
    "Q6. Write a python code to connect MySQL to python. Explain the cursor() and execute() method."
   ]
  },
  {
   "cell_type": "code",
   "execution_count": null,
   "id": "64fb784c-0fb2-4438-a4eb-c5e3c052eadb",
   "metadata": {},
   "outputs": [],
   "source": [
    "As:-To connect Python to MySQL, you can use the mysql-connector-python library."
   ]
  },
  {
   "cell_type": "code",
   "execution_count": null,
   "id": "fc22b4fd-7cac-480a-a579-6d74e3034a7c",
   "metadata": {},
   "outputs": [],
   "source": [
    "pip install mysql-connector-python"
   ]
  },
  {
   "cell_type": "code",
   "execution_count": null,
   "id": "67c64397-078d-4de0-b432-45fa69a0974a",
   "metadata": {},
   "outputs": [],
   "source": [
    "import mysql.connector\n",
    "\n",
    "# Establish the connection\n",
    "cnx = mysql.connector.connect(\n",
    "    host=\"localhost\",\n",
    "    user=\"your_username\",\n",
    "    password=\"your_password\",\n",
    "    database=\"your_database\"\n",
    ")\n",
    "\n",
    "# Create a cursor object\n",
    "cursor = cnx.cursor()\n",
    "\n",
    "# Execute a query\n",
    "query = \"SELECT * FROM Employees\"\n",
    "cursor.execute(query)\n",
    "\n",
    "# Fetch the results\n",
    "results = cursor.fetchall()\n",
    "\n",
    "# Process the results\n",
    "for row in results:\n",
    "    print(row)\n",
    "\n",
    "# Close the cursor and connection\n",
    "cursor.close()\n",
    "cnx.close()"
   ]
  },
  {
   "cell_type": "code",
   "execution_count": null,
   "id": "b2ef0bfc-a6f5-403f-9b6e-c00682f6ea70",
   "metadata": {},
   "outputs": [],
   "source": [
    "cursor():-\n",
    "    In the code above, cursor = cnx.cursor() creates a cursor object. \n",
    "      The cursor allows you to execute SQL statements and retrieve results from the database.\n",
    "        \n",
    "execute():-\n",
    "    The execute() method is used to execute an SQL query or statement.\n",
    "      It takes the SQL query as a parameter and sends it to the MySQL server for execution."
   ]
  },
  {
   "cell_type": "markdown",
   "id": "2e00d89c-ed28-4557-b7d2-028d4345e2db",
   "metadata": {},
   "source": [
    "Q7. Give the order of execution of SQL clauses in an SQL query."
   ]
  },
  {
   "cell_type": "code",
   "execution_count": null,
   "id": "ca91751e-cc6c-4f83-b217-293463f427be",
   "metadata": {},
   "outputs": [],
   "source": [
    "Ans:-\n",
    "      i.From\n",
    "       ii.Where\n",
    "        iii.Group By\n",
    "          iv.Having\n",
    "            v.Select\n",
    "             vi.Order By\n",
    "                vi"
   ]
  }
 ],
 "metadata": {
  "kernelspec": {
   "display_name": "Python 3 (ipykernel)",
   "language": "python",
   "name": "python3"
  },
  "language_info": {
   "codemirror_mode": {
    "name": "ipython",
    "version": 3
   },
   "file_extension": ".py",
   "mimetype": "text/x-python",
   "name": "python",
   "nbconvert_exporter": "python",
   "pygments_lexer": "ipython3",
   "version": "3.10.8"
  }
 },
 "nbformat": 4,
 "nbformat_minor": 5
}
